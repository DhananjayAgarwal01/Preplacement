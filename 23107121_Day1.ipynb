{
 "cells": [
  {
   "cell_type": "code",
   "execution_count": 8,
   "metadata": {},
   "outputs": [
    {
     "name": "stdout",
     "output_type": "stream",
     "text": [
      "Age cannot be nagative\n"
     ]
    }
   ],
   "source": [
    "def intro(name,native,age):\n",
    "    if age<=0:\n",
    "        return print(\"Age cannot be nagative\")\n",
    "    elif( age > 18):\n",
    "        work = \"go rest\"\n",
    "    elif( age<18):\n",
    "        work = \"go play\"\n",
    "    elif age>=18 and age <58:\n",
    "        work = \"go work\"\n",
    "    \n",
    "    print(f\"Hi {name} you are {age} old from {native} {work}\")\n",
    "\n",
    "# Inputs\n",
    "name = input(\"Name\")\n",
    "native=input(\"Native\")\n",
    "age = int(input(\"Age\"))\n",
    "work = \"\"\n",
    "intro(name,native,age)"
   ]
  },
  {
   "cell_type": "code",
   "execution_count": 10,
   "metadata": {},
   "outputs": [
    {
     "name": "stdout",
     "output_type": "stream",
     "text": [
      "Vowels are : 1\n"
     ]
    }
   ],
   "source": [
    "def count_words(word):\n",
    "    count=0\n",
    "    v=\"aeiou\"\n",
    "    for char in v:\n",
    "        count = count +word.count(char)\n",
    "    print(f\"Vowels are : {count}\")\n",
    "word = input()\n",
    "count_words(word)"
   ]
  },
  {
   "cell_type": "code",
   "execution_count": 91,
   "metadata": {},
   "outputs": [
    {
     "ename": "AttributeError",
     "evalue": "'set' object has no attribute 'count'",
     "output_type": "error",
     "traceback": [
      "\u001b[1;31m---------------------------------------------------------------------------\u001b[0m",
      "\u001b[1;31mAttributeError\u001b[0m                            Traceback (most recent call last)",
      "Cell \u001b[1;32mIn[91], line 6\u001b[0m\n\u001b[0;32m      4\u001b[0m         \u001b[38;5;28mprint\u001b[39m(\u001b[38;5;124mf\u001b[39m\u001b[38;5;124m\"\u001b[39m\u001b[38;5;132;01m{\u001b[39;00mi\u001b[38;5;132;01m}\u001b[39;00m\u001b[38;5;124m:\u001b[39m\u001b[38;5;132;01m{\u001b[39;00mword\u001b[38;5;241m.\u001b[39mcount(i)\u001b[38;5;132;01m}\u001b[39;00m\u001b[38;5;124m\"\u001b[39m)\n\u001b[0;32m      5\u001b[0m word\u001b[38;5;241m=\u001b[39m\u001b[38;5;28minput\u001b[39m()\n\u001b[1;32m----> 6\u001b[0m \u001b[43mcounted\u001b[49m\u001b[43m(\u001b[49m\u001b[43mword\u001b[49m\u001b[43m)\u001b[49m\n",
      "Cell \u001b[1;32mIn[91], line 4\u001b[0m, in \u001b[0;36mcounted\u001b[1;34m(word)\u001b[0m\n\u001b[0;32m      2\u001b[0m word\u001b[38;5;241m=\u001b[39m\u001b[38;5;28mset\u001b[39m(word)\n\u001b[0;32m      3\u001b[0m \u001b[38;5;28;01mfor\u001b[39;00m i \u001b[38;5;129;01min\u001b[39;00m \u001b[38;5;28msorted\u001b[39m(word):\n\u001b[1;32m----> 4\u001b[0m     \u001b[38;5;28mprint\u001b[39m(\u001b[38;5;124mf\u001b[39m\u001b[38;5;124m\"\u001b[39m\u001b[38;5;132;01m{\u001b[39;00mi\u001b[38;5;132;01m}\u001b[39;00m\u001b[38;5;124m:\u001b[39m\u001b[38;5;132;01m{\u001b[39;00m\u001b[43mword\u001b[49m\u001b[38;5;241;43m.\u001b[39;49m\u001b[43mcount\u001b[49m(i)\u001b[38;5;132;01m}\u001b[39;00m\u001b[38;5;124m\"\u001b[39m)\n",
      "\u001b[1;31mAttributeError\u001b[0m: 'set' object has no attribute 'count'"
     ]
    }
   ],
   "source": [
    "def counted(word):\n",
    "    word=set(word)\n",
    "    for i in sorted(word):\n",
    "        print(f\"{i}:{word.count(i)}\")\n",
    "word=input()\n",
    "counted(word)"
   ]
  },
  {
   "cell_type": "code",
   "execution_count": 34,
   "metadata": {},
   "outputs": [
    {
     "name": "stdout",
     "output_type": "stream",
     "text": [
      "Palindrome: True\n"
     ]
    }
   ],
   "source": [
    "def palindrome(word):\n",
    "    return word[::-1] == word\n",
    "print(f\"Palindrome: {palindrome(input())}\")"
   ]
  },
  {
   "cell_type": "code",
   "execution_count": 6,
   "metadata": {},
   "outputs": [
    {
     "name": "stdout",
     "output_type": "stream",
     "text": [
      "50.0\n"
     ]
    }
   ],
   "source": [
    "def percentage(no1, no2):\n",
    "    return (no1/no2)*100\n",
    "no1,no2=map(int,input(\"Number 1 and number2\").split(\" \"))\n",
    "print(percentage(no1,no2))"
   ]
  },
  {
   "cell_type": "code",
   "execution_count": 9,
   "metadata": {},
   "outputs": [
    {
     "name": "stdout",
     "output_type": "stream",
     "text": [
      "1\n"
     ]
    }
   ],
   "source": [
    "def min(no1, no2):\n",
    "    if no1>no2:\n",
    "        return no2\n",
    "    else:\n",
    "        return no1\n",
    "print(min(int(input()), int(input())))"
   ]
  },
  {
   "cell_type": "code",
   "execution_count": 26,
   "metadata": {},
   "outputs": [
    {
     "name": "stdout",
     "output_type": "stream",
     "text": [
      "Perfect Square: True\n"
     ]
    }
   ],
   "source": [
    "def perfect_square(no):\n",
    "    squareroot=int(no**0.5)\n",
    "    return squareroot*squareroot == no\n",
    "print(f\"Perfect Square: {perfect_square(int(input()))}\")"
   ]
  },
  {
   "cell_type": "code",
   "execution_count": 30,
   "metadata": {},
   "outputs": [
    {
     "name": "stdout",
     "output_type": "stream",
     "text": [
      "1  >>__>>  2  >>__>>  3  >>__>>  4  >>__>>  5  >>__>>  6  >>__>>  7  >>__>>  8  >>__>>  9  >>__>>  10  >>__>>  "
     ]
    }
   ],
   "source": [
    "i=1\n",
    "for i in range(1,11):\n",
    "    print(i, end =\"  >>__>>  \")\n",
    "    i+=1"
   ]
  },
  {
   "cell_type": "code",
   "execution_count": 48,
   "metadata": {},
   "outputs": [
    {
     "name": "stdout",
     "output_type": "stream",
     "text": [
      "                                 *\n",
      "                                ***\n",
      "                               *****\n",
      "                              *******\n",
      "                             *********\n",
      "                            ***********\n",
      "                           *************\n",
      "                          ***************\n",
      "                         *****************\n",
      "                        *******************\n",
      "                       *********************\n",
      "                      ***********************\n",
      "                     *************************\n",
      "                    ***************************\n",
      "                   *****************************\n",
      "                  *******************************\n",
      "                 *********************************\n",
      "                ***********************************\n",
      "               *************************************\n",
      "              ***************************************\n",
      "             *****************************************\n",
      "            *******************************************\n",
      "           *********************************************\n",
      "          ***********************************************\n",
      "         *************************************************\n",
      "        ***************************************************\n",
      "       *****************************************************\n",
      "      *******************************************************\n",
      "     *********************************************************\n",
      "    ***********************************************************\n",
      "   *************************************************************\n",
      "  ***************************************************************\n"
     ]
    }
   ],
   "source": [
    "a=int(input())\n",
    "for i in range(1,a):\n",
    "    print(\" \"*(a-(i)),\"*\"*(i-1)+\"*\"*i)"
   ]
  },
  {
   "cell_type": "code",
   "execution_count": 60,
   "metadata": {},
   "outputs": [
    {
     "name": "stdout",
     "output_type": "stream",
     "text": [
      "                    -\n",
      "                   +++\n",
      "                  -----\n",
      "                 +++++++\n",
      "                ---------\n",
      "               +++++++++++\n",
      "              -------------\n",
      "             +++++++++++++++\n",
      "            -----------------\n",
      "           +++++++++++++++++++\n",
      "          ---------------------\n",
      "         +++++++++++++++++++++++\n",
      "        -------------------------\n",
      "       +++++++++++++++++++++++++++\n",
      "      -----------------------------\n",
      "     +++++++++++++++++++++++++++++++\n",
      "    ---------------------------------\n",
      "   +++++++++++++++++++++++++++++++++++\n",
      "  -------------------------------------\n"
     ]
    }
   ],
   "source": [
    "def printer(a):\n",
    "    for i in range(1,a):\n",
    "        if i%2==0:\n",
    "            print(\" \"*(a-(i)),\"+\"*(i-1)+\"+\"*i)\n",
    "        else:\n",
    "            print(\" \"*(a-(i)),\"-\"*(i-1)+\"-\"*i)\n",
    "printer(int(input()))\n"
   ]
  },
  {
   "cell_type": "code",
   "execution_count": 63,
   "metadata": {},
   "outputs": [
    {
     "name": "stdout",
     "output_type": "stream",
     "text": [
      "1 2 3 4 5 6 7 8 9 10 "
     ]
    }
   ],
   "source": [
    "def printer(n):\n",
    "    for i in range(1,n+1):\n",
    "        print(i, end=\" \")\n",
    "printer(int(input()))"
   ]
  },
  {
   "cell_type": "code",
   "execution_count": 71,
   "metadata": {},
   "outputs": [
    {
     "name": "stdout",
     "output_type": "stream",
     "text": [
      "10 11 12 13 14 "
     ]
    }
   ],
   "source": [
    "def printer(start,end):\n",
    "    step=0\n",
    "    if end < 0:\n",
    "        step = -1\n",
    "        end = end - 1\n",
    "    else:\n",
    "        step = 1\n",
    "        end = end+1\n",
    "    for i in range(start,end, step):\n",
    "        print(i, end=\" \")\n",
    "printer(int(input()), int(input()))"
   ]
  },
  {
   "cell_type": "code",
   "execution_count": 75,
   "metadata": {},
   "outputs": [
    {
     "name": "stdout",
     "output_type": "stream",
     "text": [
      "Jaa na hatt\n"
     ]
    }
   ],
   "source": [
    "while True:\n",
    "    a=int(input())\n",
    "    if a<0:\n",
    "        print(\"Jaa na hatt\")\n",
    "        break"
   ]
  },
  {
   "cell_type": "code",
   "execution_count": 83,
   "metadata": {},
   "outputs": [
    {
     "name": "stdout",
     "output_type": "stream",
     "text": [
      "150\n"
     ]
    }
   ],
   "source": [
    "def total(a):\n",
    "    tt = 0\n",
    "    while a!=0:\n",
    "        tt += a\n",
    "        a=int(input())\n",
    "    return print(tt)\n",
    "total(int(input()))"
   ]
  },
  {
   "cell_type": "code",
   "execution_count": null,
   "metadata": {},
   "outputs": [
    {
     "name": "stdout",
     "output_type": "stream",
     "text": [
      "Itta sasta thodi hai, hatt\n",
      "Areee bewakoof itna bhi mehenga nai hai\n",
      "Kya baat hai, sahi bola\n",
      "Teko 3 baar guess krna pada \n"
     ]
    }
   ],
   "source": [
    "cost= float(input())\n",
    "i=1\n",
    "while True:\n",
    "    guessed_cost = float(input(\"Enter cost of guessed gift\"))\n",
    "    if cost==guessed_cost:\n",
    "        print(\"Kya baat hai, sahi bola\")\n",
    "        break\n",
    "    elif cost>guessed_cost:\n",
    "        print(\"Itta sasta thodi hai, hatt\")\n",
    "    else:\n",
    "        print(\"Areee bewakoof itna bhi mehenga nai hai\")\n",
    "    i+=1\n",
    "print(f\"Teko {i} baar guess krna pada \")\n",
    "    "
   ]
  }
 ],
 "metadata": {
  "kernelspec": {
   "display_name": "Python 3",
   "language": "python",
   "name": "python3"
  },
  "language_info": {
   "codemirror_mode": {
    "name": "ipython",
    "version": 3
   },
   "file_extension": ".py",
   "mimetype": "text/x-python",
   "name": "python",
   "nbconvert_exporter": "python",
   "pygments_lexer": "ipython3",
   "version": "3.12.8"
  }
 },
 "nbformat": 4,
 "nbformat_minor": 2
}
