{
 "cells": [
  {
   "cell_type": "code",
   "execution_count": 3,
   "metadata": {},
   "outputs": [],
   "source": [
    "l=[]\n"
   ]
  },
  {
   "cell_type": "code",
   "execution_count": 6,
   "metadata": {},
   "outputs": [
    {
     "name": "stdout",
     "output_type": "stream",
     "text": [
      "3 [10, 20, 30]\n"
     ]
    }
   ],
   "source": [
    "\n",
    "l.append(int(input(\"Enter a number\")))\n",
    "print(len(l),l)"
   ]
  },
  {
   "cell_type": "markdown",
   "metadata": {},
   "source": [
    "## Pop ()\n",
    "Removes the element at a particular index\n",
    "## Remove ()\n",
    "Removes the particular element\n",
    "## Count ()\n",
    "Tells how many times an element has been repeated\n"
   ]
  },
  {
   "cell_type": "code",
   "execution_count": 4,
   "metadata": {},
   "outputs": [
    {
     "name": "stdout",
     "output_type": "stream",
     "text": [
      "[1, 2, 3, 4, 5, 5, 7, 8]\n"
     ]
    }
   ],
   "source": [
    "l1=[1,2,5,7]\n",
    "l2=[3,4,5,8]\n",
    "l3=sorted(l1 + l2)\n",
    "print(l3)"
   ]
  },
  {
   "cell_type": "code",
   "execution_count": 8,
   "metadata": {},
   "outputs": [
    {
     "name": "stdout",
     "output_type": "stream",
     "text": [
      "67\n"
     ]
    }
   ],
   "source": [
    "#2nd Largest element in list\n",
    "list = [5,34,12,67,98,3,26,9]\n",
    "list.sort()\n",
    "print(list[-2])"
   ]
  },
  {
   "cell_type": "code",
   "execution_count": 14,
   "metadata": {},
   "outputs": [
    {
     "name": "stdout",
     "output_type": "stream",
     "text": [
      "Teko 5 steps gaye re, tera list bana \n",
      " [10.0, 20.0, 30.0, 40.0, 50.0]\n"
     ]
    }
   ],
   "source": [
    "# Keep adding numbers to list till user gives 1st blank\n",
    "# 1 -> \n",
    "i=0\n",
    "l=[]\n",
    "\n",
    "while True:\n",
    "    a=input()\n",
    "    if a==\"\":\n",
    "        break\n",
    "    l.append(float(a))\n",
    "    i+=1\n",
    "print(f\"Teko {i} steps gaye re, tera list bana \\n {l}\")"
   ]
  },
  {
   "cell_type": "code",
   "execution_count": null,
   "metadata": {},
   "outputs": [
    {
     "name": "stdout",
     "output_type": "stream",
     "text": [
      "Teko 5 steps gaye re, tera list bana \n",
      " [10.0, 12.0, 13.0, 15.0, 17.0]\n",
      "Average items are 15.0\n",
      "Average items are 17.0\n"
     ]
    }
   ],
   "source": [
    "# Keep adding numbers to list till user gives 1st blank\n",
    "# 1 -> \n",
    "i=0\n",
    "l=[]\n",
    "\n",
    "while True:\n",
    "    a=input()\n",
    "    if a==\"\":\n",
    "        break\n",
    "    l.append(float(a))\n",
    "    i+=1\n",
    "print(f\"Teko {i} steps gaye re, tera list bana \\n {l}\")\n",
    "average=(sum(l)/len(l))\n",
    "\n",
    "for i in l:\n",
    "    if i>average:\n",
    "        print(f\"Average item is {i}\")"
   ]
  },
  {
   "cell_type": "code",
   "execution_count": 22,
   "metadata": {},
   "outputs": [
    {
     "name": "stdout",
     "output_type": "stream",
     "text": [
      "Teko 5 steps gaye re, tera list bana \n",
      " [10.0, 20.0, 30.0, 40.0, 50.0]\n",
      "Le re tera naya list -> [60.0, 70.0, 30.0, 30.0, 40.0]\n"
     ]
    }
   ],
   "source": [
    "# Keep adding numbers to list till user gives 1st blank\n",
    "# elements> average => -10\n",
    "# elements < average => +50\n",
    "i=0\n",
    "l=[]\n",
    "\n",
    "while True:\n",
    "    a=input()\n",
    "    if a==\"\":\n",
    "        break\n",
    "    l.append(float(a))\n",
    "    i+=1\n",
    "print(f\"Teko {i} steps gaye re, tera list bana \\n {l}\")\n",
    "average=(sum(l)/len(l))\n",
    "\n",
    "for i in range(0, len(l)):\n",
    "    if l[i]>average:\n",
    "        l[i]-=10\n",
    "    elif l[i]<average:\n",
    "        l[i]+=50\n",
    "    else:\n",
    "        l[i]\n",
    "print(f\"Le re tera naya list -> {l}\")"
   ]
  },
  {
   "cell_type": "code",
   "execution_count": 31,
   "metadata": {},
   "outputs": [
    {
     "name": "stdout",
     "output_type": "stream",
     "text": [
      "The list rotated 1 times, now the rotated list is [22, 33, 44, 11]\n",
      "The list rotated 2 times, now the rotated list is [33, 44, 11, 22]\n",
      "The list rotated 3 times, now the rotated list is [44, 11, 22, 33]\n"
     ]
    }
   ],
   "source": [
    "#rotating list\n",
    "l=[11,22,33,44]\n",
    "# allow user to give n\n",
    "#n is rotation times\n",
    "n = int(input())\n",
    "for i in range(0,n):\n",
    "    l.append(l.pop(0))\n",
    "    print(f\"The list rotated {i+1} times, now the rotated list is {l}\")\n",
    "\n",
    "    \n",
    "    "
   ]
  },
  {
   "cell_type": "code",
   "execution_count": null,
   "metadata": {},
   "outputs": [
    {
     "name": "stdout",
     "output_type": "stream",
     "text": [
      "The list rotated 1 times, now the rotated list is [44, 11, 22, 33]\n",
      "The list rotated 2 times, now the rotated list is [33, 44, 11, 22]\n",
      "The list rotated 3 times, now the rotated list is [22, 33, 44, 11]\n"
     ]
    }
   ],
   "source": [
    "#rotating list\n",
    "l=[11,22,33,44]\n",
    "# allow user to give n\n",
    "#n is rotation times\n",
    "n = int(input())\n",
    "for i in range(0,n):\n",
    "    l.reverse()\n",
    "    l.append(l.pop(0))\n",
    "    l.reverse()\n",
    "    # or use l.insert(0,l.pop())\n",
    "    print(f\"The list rotated {i+1} times, now the rotated list is {l}\")"
   ]
  },
  {
   "cell_type": "code",
   "execution_count": null,
   "metadata": {},
   "outputs": [],
   "source": []
  },
  {
   "cell_type": "code",
   "execution_count": 36,
   "metadata": {},
   "outputs": [
    {
     "name": "stdout",
     "output_type": "stream",
     "text": [
      "10 20 30 40 50 60 70 80 90 100 "
     ]
    }
   ],
   "source": [
    "l2d=[[10,20,30],[40,50],[60,70,80,90,100]]\n",
    "for row in l2d:\n",
    "    for elements in row:\n",
    "        print(elements, end = \" \")"
   ]
  },
  {
   "cell_type": "markdown",
   "metadata": {},
   "source": [
    "# | or Union\n",
    "# & or Intersection\n",
    "# ^ or Symmetric Difference"
   ]
  },
  {
   "cell_type": "code",
   "execution_count": 44,
   "metadata": {},
   "outputs": [
    {
     "name": "stdout",
     "output_type": "stream",
     "text": [
      "at 1----> One\n",
      "at 2----> Two\n",
      "at 3----> Three\n"
     ]
    }
   ],
   "source": [
    "a = {1: \"One\", 2: \"Two\", 3:\"Three\"}\n",
    "for key in sorted(a.keys()):\n",
    "    print(f\"at {key}----> {a[key]}\")"
   ]
  },
  {
   "cell_type": "code",
   "execution_count": 59,
   "metadata": {},
   "outputs": [
    {
     "name": "stdout",
     "output_type": "stream",
     "text": [
      "{'1': 'Dj', '2': 'DD', '3': 'DW', '4': 'De', '5': 'DD'}\n"
     ]
    }
   ],
   "source": [
    "# Add a record\n",
    "def add_record():\n",
    "    for i in range(0, rec):\n",
    "        name,number = map(str, input(\"Enter name and number\").split())\n",
    "        dict.update({number:name})\n",
    "    return print(dict)\n",
    "dict={}\n",
    "rec = int(input(\"How many records do u want to enter?\"))\n",
    "add_record()"
   ]
  },
  {
   "cell_type": "code",
   "execution_count": 61,
   "metadata": {},
   "outputs": [
    {
     "name": "stdout",
     "output_type": "stream",
     "text": [
      "{'1': 'Dj', '2': 'DD', '3': 'DW', '4': 'De', '5': 'DD'}, these are the records, Tell which record to delete\n",
      "{'2': 'DD', '3': 'DW', '4': 'De', '5': 'DD'}\n"
     ]
    }
   ],
   "source": [
    "# Delete a record\n",
    "def del_record():\n",
    "    number = input(\"Enter number: \")\n",
    "    dict.pop(number)\n",
    "    return print(dict)\n",
    "print(f\"{dict}, these are the records, Tell which record to delete\")\n",
    "del_record()"
   ]
  },
  {
   "cell_type": "code",
   "execution_count": 66,
   "metadata": {},
   "outputs": [
    {
     "name": "stdout",
     "output_type": "stream",
     "text": [
      "{'2': 'DD', '3': 'DW', '4': 'De', '5': 'DD', 'DD': '1', '1': 'DD'}, these are the records right now\n",
      "{'2': 'DD', '3': 'DW', '4': 'De', '5': 'DD', 'DD': '1', '1': 'dd'}\n"
     ]
    }
   ],
   "source": [
    "# Update a record\n",
    "def update_record():\n",
    "    name,number = map(str, input(\"Enter name and number to update\").split())\n",
    "    dict[number]= name\n",
    "    return print(dict)\n",
    "print(f\"{dict}, these are the records right now\")\n",
    "update_record()"
   ]
  },
  {
   "cell_type": "code",
   "execution_count": null,
   "metadata": {},
   "outputs": [
    {
     "name": "stdout",
     "output_type": "stream",
     "text": [
      "{'a': 4, 'd': 6, 'j': 4, 's': 1}\n",
      "The most repeated element is repeated 6 times\n"
     ]
    }
   ],
   "source": [
    "line = input(\"Input a line: \")\n",
    "alpha = {}\n",
    "for char in sorted(set(line)):\n",
    "    alpha[char] = line.count(char)\n",
    "print(alpha)\n",
    "print(f\"The most repeated element is repeated {max(alpha.values())} times\")"
   ]
  },
  {
   "cell_type": "code",
   "execution_count": null,
   "metadata": {},
   "outputs": [
    {
     "name": "stdout",
     "output_type": "stream",
     "text": [
      "X\n",
      "XX\n",
      "X X\n",
      "X  X\n",
      "X   X\n",
      "X    X\n",
      "X     X\n",
      "X      X\n",
      "X       X\n",
      "X        X\n",
      "XXXXXXXXXXX\n"
     ]
    }
   ],
   "source": [
    "n=int(input(\"Enter number of lines: \"))\n",
    "print(\"X\")\n",
    "for i in range(1,n):\n",
    "    print(\"X\",\"X\".rjust(i),sep=\"\")\n",
    "print(\"X\"*(n+1))"
   ]
  },
  {
   "cell_type": "code",
   "execution_count": 150,
   "metadata": {},
   "outputs": [
    {
     "name": "stdout",
     "output_type": "stream",
     "text": [
      "   X\n",
      "  X X\n",
      " X    X\n",
      "XXXXXXXX\n"
     ]
    }
   ],
   "source": [
    "from re import X\n",
    "b,a=3,1\n",
    "print(\"X\".rjust(4))\n",
    "while b>1:\n",
    "    print(\"X\".rjust(b),\"X\".rjust(a))\n",
    "    b-=1\n",
    "    a+=3\n",
    "print(\"X\"*8)"
   ]
  },
  {
   "cell_type": "code",
   "execution_count": 157,
   "metadata": {},
   "outputs": [
    {
     "name": "stdout",
     "output_type": "stream",
     "text": [
      "{1: ['DJ', 19, 'male'], 2: ['Rid', 19, 'Female'], 3: ['Prasad', 19, 'Male'], 4: ['Purva', 19, 'Female']}\n"
     ]
    }
   ],
   "source": [
    "dict={}\n",
    "def add_record(n):\n",
    "    for i in range(0,n):\n",
    "        rollno=int(input(\"Enter your roll no. \"))\n",
    "        name = input(\"Enter name\")\n",
    "        age = int(input(\"Enter Age\"))\n",
    "        gender = input(\"Enter gender\")\n",
    "        list=[name,age,gender]\n",
    "        dict[rollno]=list\n",
    "n=int(input(\"Number of records: \"))\n",
    "add_record(n)\n",
    "print(dict)"
   ]
  },
  {
   "cell_type": "code",
   "execution_count": 160,
   "metadata": {},
   "outputs": [
    {
     "name": "stdout",
     "output_type": "stream",
     "text": [
      "['DJ', 19, 'male']\n"
     ]
    }
   ],
   "source": [
    "def search(n):\n",
    "    for i in dict:\n",
    "        if i==n:\n",
    "            print(dict[1])\n",
    "n=int(input(\"Enter roll number: \"))\n",
    "search(n)"
   ]
  },
  {
   "cell_type": "code",
   "execution_count": 169,
   "metadata": {},
   "outputs": [
    {
     "name": "stdout",
     "output_type": "stream",
     "text": [
      "Values Updated\n",
      "['Dj', 21, 'male']\n"
     ]
    }
   ],
   "source": [
    "def update(rollno,data):\n",
    "    dict[rollno]=[name,age,gender]\n",
    "    print(\"Values Updated\")\n",
    "    print(dict[rollno])\n",
    "rollno=int(input(\"Enter your roll no. \"))\n",
    "name = input(\"Enter name\")\n",
    "age = int(input(\"Enter Age\"))\n",
    "gender = input(\"Enter gender\")\n",
    "data=[name,age,gender]\n",
    "update(rollno,data)\n"
   ]
  },
  {
   "cell_type": "code",
   "execution_count": 178,
   "metadata": {},
   "outputs": [
    {
     "name": "stdout",
     "output_type": "stream",
     "text": [
      "Values delete\n",
      "{3: ['12', 12, '1'], 4: ['DJ', 21, 'Malee']}\n"
     ]
    }
   ],
   "source": [
    "def delete(rollno):\n",
    "    del dict[rollno]\n",
    "    print(\"Values deleted\")\n",
    "rollno=int(input(\"Enter your roll no. \"))\n",
    "delete(rollno)\n",
    "print(dict)\n"
   ]
  }
 ],
 "metadata": {
  "kernelspec": {
   "display_name": "Python 3",
   "language": "python",
   "name": "python3"
  },
  "language_info": {
   "codemirror_mode": {
    "name": "ipython",
    "version": 3
   },
   "file_extension": ".py",
   "mimetype": "text/x-python",
   "name": "python",
   "nbconvert_exporter": "python",
   "pygments_lexer": "ipython3",
   "version": "3.12.8"
  }
 },
 "nbformat": 4,
 "nbformat_minor": 2
}
