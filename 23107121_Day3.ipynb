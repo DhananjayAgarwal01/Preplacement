{
 "cells": [
  {
   "cell_type": "code",
   "execution_count": 30,
   "metadata": {},
   "outputs": [
    {
     "name": "stdout",
     "output_type": "stream",
     "text": [
      "Your number is 3, that means your Numerology is Number 3 is the number of creativity, expression, and communication.\n"
     ]
    }
   ],
   "source": [
    "def sum_digits(n):\n",
    "    s = 0\n",
    "    while n:\n",
    "        s += n % 10\n",
    "        n //= 10\n",
    "    return s\n",
    "bdate,bmonth,byear=map(int,input(\"Enter birthday by /\").split(\"/\"))\n",
    "numerology_properties = {\n",
    "    1: \"Number 1 is the number of leadership, independence, and assertiveness.\",\n",
    "    2: \"Number 2 is the number of balance, diplomacy, and cooperation.\",\n",
    "    3: \"Number 3 is the number of creativity, expression, and communication.\",\n",
    "    4: \"Number 4 is the number of stability, responsibility, and hard work.\",\n",
    "    5: \"Number 5 is the number of freedom, adventure, and curiosity.\",\n",
    "    6: \"Number 6 is the number of love, family, and nurturing.\",\n",
    "    7: \"Number 7 is the number of spirituality, introspection, and wisdom.\",\n",
    "    8: \"Number 8 is the number of power, ambition, and material success.\",\n",
    "    9: \"Number 9 is the number of completion, humanitarianism, and universal concern.\"\n",
    "}\n",
    "sumbdate=sum_digits(bdate)\n",
    "sumbmonth=sum_digits(bmonth)\n",
    "sumbyear=sum_digits(byear)\n",
    "sumtotal=sumbdate+sumbmonth+sumbyear\n",
    "while sumtotal not in (1,2,3,4,5,6,7,8,9):\n",
    "    sumtotal=sum_digits(sumtotal)\n",
    "print(f\"Your number is {sumtotal}, that means your Numerology is {numerology_properties[sumtotal]}\")"
   ]
  },
  {
   "cell_type": "code",
   "execution_count": 29,
   "metadata": {},
   "outputs": [
    {
     "name": "stdout",
     "output_type": "stream",
     "text": [
      "123\n"
     ]
    }
   ],
   "source": []
  }
 ],
 "metadata": {
  "kernelspec": {
   "display_name": "Python 3",
   "language": "python",
   "name": "python3"
  },
  "language_info": {
   "codemirror_mode": {
    "name": "ipython",
    "version": 3
   },
   "file_extension": ".py",
   "mimetype": "text/x-python",
   "name": "python",
   "nbconvert_exporter": "python",
   "pygments_lexer": "ipython3",
   "version": "3.12.8"
  }
 },
 "nbformat": 4,
 "nbformat_minor": 2
}
